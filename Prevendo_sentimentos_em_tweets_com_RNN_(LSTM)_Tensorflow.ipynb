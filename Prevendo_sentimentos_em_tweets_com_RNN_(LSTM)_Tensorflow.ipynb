{
  "cells": [
    {
      "cell_type": "markdown",
      "metadata": {
        "id": "MVSZvgTkor0N"
      },
      "source": [
        "# Importando as bibliotecas:"
      ]
    },
    {
      "cell_type": "code",
      "execution_count": null,
      "metadata": {
        "colab": {
          "base_uri": "https://localhost:8080/"
        },
        "id": "e8caqDgQ7GYr",
        "outputId": "0838093d-34fd-4263-efd3-b8bb1e79dbda"
      },
      "outputs": [
        {
          "output_type": "stream",
          "name": "stderr",
          "text": [
            "[nltk_data] Downloading package stopwords to /root/nltk_data...\n",
            "[nltk_data]   Package stopwords is already up-to-date!\n",
            "[nltk_data] Downloading package punkt to /root/nltk_data...\n",
            "[nltk_data]   Package punkt is already up-to-date!\n"
          ]
        }
      ],
      "source": [
        "# Importando utilitários\n",
        "import matplotlib.pyplot as plt\n",
        "import numpy as np\n",
        "import pandas as pd\n",
        "import seaborn as sns\n",
        "\n",
        "# Importando libs para processamento de texto:\n",
        "import nltk\n",
        "import re\n",
        "from nltk.corpus import stopwords\n",
        "from nltk.stem import PorterStemmer\n",
        "from nltk.tokenize import word_tokenize\n",
        "\n",
        "# Baixndo os recursos necessários da nlkt:\n",
        "nltk.download('stopwords')\n",
        "# Baixndo os recursos necessários da nlkt:\n",
        "nltk.download('punkt')\n",
        "\n",
        "# Importando utilitários para o treino\n",
        "from tensorflow.keras.callbacks import EarlyStopping\n",
        "import tensorflow as tf\n",
        "from keras.preprocessing import sequence\n",
        "from sklearn.model_selection import train_test_split\n",
        "from tensorflow.keras.models import Sequential\n",
        "from tensorflow.keras.layers import *\n",
        "from tensorflow.keras.preprocessing.sequence import pad_sequences\n",
        "from tensorflow.keras.preprocessing.text import Tokenizer"
      ]
    },
    {
      "cell_type": "code",
      "source": [
        "# Verifica se a GPU está disponível\n",
        "if tf.test.gpu_device_name():\n",
        "    print('GPU encontrada:', tf.test.gpu_device_name())\n",
        "else:\n",
        "    print(\"Nenhuma GPU disponível, utilizando CPU.\")"
      ],
      "metadata": {
        "colab": {
          "base_uri": "https://localhost:8080/"
        },
        "id": "WPykblzSXJcb",
        "outputId": "71d4b505-5d8e-4da5-d4dd-43434c2c46dc"
      },
      "execution_count": null,
      "outputs": [
        {
          "output_type": "stream",
          "name": "stdout",
          "text": [
            "GPU encontrada: /device:GPU:0\n"
          ]
        }
      ]
    },
    {
      "cell_type": "markdown",
      "metadata": {
        "id": "HlNkRThz-QTN"
      },
      "source": [
        "# Carregando o dataset:"
      ]
    },
    {
      "cell_type": "code",
      "execution_count": null,
      "metadata": {
        "colab": {
          "base_uri": "https://localhost:8080/"
        },
        "id": "1ckM4hem-goK",
        "outputId": "b6e991a7-b9af-4194-ae19-d5328716b9df"
      },
      "outputs": [
        {
          "output_type": "stream",
          "name": "stdout",
          "text": [
            "Mounted at /content/drive\n",
            "   Unnamed: 0                                               text  label\n",
            "0           0      i just feel really helpless and heavy hearted      4\n",
            "1           1  ive enjoyed being able to slouch about relax a...      0\n",
            "2           2  i gave up my internship with the dmrg and am f...      4\n",
            "3           3                         i dont know i feel so lost      0\n",
            "4           4  i am a kindergarten teacher and i am thoroughl...      4\n"
          ]
        }
      ],
      "source": [
        "from google.colab import drive\n",
        "drive.mount('/content/drive')\n",
        "\n",
        "caminho_dataset = '/content/drive/MyDrive/emotions.csv'\n",
        "\n",
        "dataset = pd.read_csv(caminho_dataset)\n",
        "\n",
        "# Exibindo as primeiras linhas do DataFrame para verificar se foi carregado corretamente\n",
        "print(dataset.head())"
      ]
    },
    {
      "cell_type": "code",
      "execution_count": null,
      "metadata": {
        "colab": {
          "base_uri": "https://localhost:8080/"
        },
        "id": "NL5qsdDJ-7RX",
        "outputId": "965694a2-2552-45e8-f83b-0207638d6637"
      },
      "outputs": [
        {
          "output_type": "stream",
          "name": "stdout",
          "text": [
            "<class 'pandas.core.frame.DataFrame'>\n",
            "RangeIndex: 416809 entries, 0 to 416808\n",
            "Data columns (total 3 columns):\n",
            " #   Column      Non-Null Count   Dtype \n",
            "---  ------      --------------   ----- \n",
            " 0   Unnamed: 0  416809 non-null  int64 \n",
            " 1   text        416809 non-null  object\n",
            " 2   label       416809 non-null  int64 \n",
            "dtypes: int64(2), object(1)\n",
            "memory usage: 9.5+ MB\n"
          ]
        }
      ],
      "source": [
        "# Informações sobre o tipo de dados:\n",
        "dataset.info()"
      ]
    },
    {
      "cell_type": "code",
      "execution_count": null,
      "metadata": {
        "colab": {
          "base_uri": "https://localhost:8080/"
        },
        "id": "iDfXBfDX_5c0",
        "outputId": "d417f7b2-f185-4796-9f8d-53b9096d672e"
      },
      "outputs": [
        {
          "output_type": "stream",
          "name": "stdout",
          "text": [
            "                                                text  label\n",
            "0      i just feel really helpless and heavy hearted      4\n",
            "1  ive enjoyed being able to slouch about relax a...      0\n",
            "2  i gave up my internship with the dmrg and am f...      4\n",
            "3                         i dont know i feel so lost      0\n",
            "4  i am a kindergarten teacher and i am thoroughl...      4\n"
          ]
        }
      ],
      "source": [
        "# Removendo a coluna 'Unnamed: 0' pois não precisamos dela\n",
        "dataset = dataset.drop('Unnamed: 0', axis=1)\n",
        "\n",
        "print(dataset.head())"
      ]
    },
    {
      "cell_type": "code",
      "execution_count": null,
      "metadata": {
        "colab": {
          "base_uri": "https://localhost:8080/"
        },
        "id": "LjSJ0aEj-pLP",
        "outputId": "e9e64e84-2843-4b15-b362-d0fff0db1d71"
      },
      "outputs": [
        {
          "output_type": "stream",
          "name": "stdout",
          "text": [
            "686\n",
            "\n",
            "0\n"
          ]
        }
      ],
      "source": [
        "# buscando por duplicatas:\n",
        "print(dataset.duplicated().sum())\n",
        "print()\n",
        "\n",
        "# removendo as duplicatas:\n",
        "dataset = dataset.drop_duplicates()\n",
        "\n",
        "# buscando novamente:\n",
        "print(dataset.duplicated().sum())"
      ]
    },
    {
      "cell_type": "code",
      "execution_count": null,
      "metadata": {
        "colab": {
          "base_uri": "https://localhost:8080/"
        },
        "id": "_IaQoZxx-T60",
        "outputId": "bd4a4d61-da9c-45cb-8cb3-3e2d58c97975"
      },
      "outputs": [
        {
          "output_type": "stream",
          "name": "stdout",
          "text": [
            "O formato do dataframe é : (416123, 2)\n"
          ]
        }
      ],
      "source": [
        "# Observando o formato:\n",
        "print(f'O formato do dataframe é : {dataset.shape}')"
      ]
    },
    {
      "cell_type": "markdown",
      "metadata": {
        "id": "5wuP_14X-xgN"
      },
      "source": [
        "# Análise dos Dados:\n"
      ]
    },
    {
      "cell_type": "code",
      "execution_count": null,
      "metadata": {
        "colab": {
          "base_uri": "https://localhost:8080/",
          "height": 388
        },
        "id": "UCWrURUo_B52",
        "outputId": "9dcabd21-5212-47b1-9be7-09a29eb4bbf7"
      },
      "outputs": [
        {
          "output_type": "display_data",
          "data": {
            "text/plain": [
              "<Figure size 600x400 with 1 Axes>"
            ],
            "image/png": "[encoded data removed]"
          },
          "metadata": {}
        }
      ],
      "source": [
        "classes = {\n",
        "    0: \"sadness\",\n",
        "    1: \"joy\",\n",
        "    2: \"love\",\n",
        "    3: \"anger\",\n",
        "    4: \"fear\",\n",
        "    5: \"surprise\"\n",
        "}\n",
        "\n",
        "# Verificando o balanceamento das labels:\n",
        "plt.figure(figsize=(6,4))\n",
        "sns.countplot(x='label', data=dataset)\n",
        "plt.xticks(ticks=range(len(classes)), labels=[classes[i] for i in range(len(classes))])\n",
        "plt.show()"
      ]
    },
    {
      "cell_type": "markdown",
      "metadata": {
        "id": "uX0PKbxiAJ2N"
      },
      "source": [
        "# Removendo chat words e stop_words:"
      ]
    },
    {
      "cell_type": "code",
      "execution_count": null,
      "metadata": {
        "id": "U125nkURAMgN"
      },
      "outputs": [],
      "source": [
        "# Definindo um dicionário de palavras de chat:\n",
        "chat_words = {\n",
        "    \"AFAIK\": \"As Far As I Know\",\n",
        "    \"AFK\": \"Away From Keyboard\",\n",
        "    \"ASAP\": \"As Soon As Possible\",\n",
        "    \"ATK\": \"At The Keyboard\",\n",
        "    \"ATM\": \"At The Moment\",\n",
        "    \"A3\": \"Anytime, Anywhere, Anyplace\",\n",
        "    \"BAK\": \"Back At Keyboard\",\n",
        "    \"BBL\": \"Be Back Later\",\n",
        "    \"BBS\": \"Be Back Soon\",\n",
        "    \"BFN\": \"Bye For Now\",\n",
        "    \"B4N\": \"Bye For Now\",\n",
        "    \"BRB\": \"Be Right Back\",\n",
        "    \"BRT\": \"Be Right There\",\n",
        "    \"BTW\": \"By The Way\",\n",
        "    \"B4\": \"Before\",\n",
        "    \"B4N\": \"Bye For Now\",\n",
        "    \"CU\": \"See You\",\n",
        "    \"CUL8R\": \"See You Later\",\n",
        "    \"CYA\": \"See You\",\n",
        "    \"FAQ\": \"Frequently Asked Questions\",\n",
        "    \"FC\": \"Fingers Crossed\",\n",
        "    \"FWIW\": \"For What It's Worth\",\n",
        "    \"FYI\": \"For Your Information\",\n",
        "    \"GAL\": \"Get A Life\",\n",
        "    \"GG\": \"Good Game\",\n",
        "    \"GN\": \"Good Night\",\n",
        "    \"GMTA\": \"Great Minds Think Alike\",\n",
        "    \"GR8\": \"Great!\",\n",
        "    \"G9\": \"Genius\",\n",
        "    \"IC\": \"I See\",\n",
        "    \"ICQ\": \"I Seek you (also a chat program)\",\n",
        "    \"ILU\": \"ILU: I Love You\",\n",
        "    \"IMHO\": \"In My Honest/Humble Opinion\",\n",
        "    \"IMO\": \"In My Opinion\",\n",
        "    \"IOW\": \"In Other Words\",\n",
        "    \"IRL\": \"In Real Life\",\n",
        "    \"LDR\": \"Long Distance Relationship\",\n",
        "    \"LMAO\": \"Laugh My Ass Off\",\n",
        "    \"LOL\": \"Laughing Out Loud\",\n",
        "    \"LTNS\": \"Long Time No See\",\n",
        "    \"L8R\": \"Later\",\n",
        "    \"MTE\": \"My Thoughts Exactly\",\n",
        "    \"M8\": \"Mate\",\n",
        "    \"NRN\": \"No Reply Necessary\",\n",
        "    \"OIC\": \"Oh I See\",\n",
        "    \"PITA\": \"Pain In The Ass\",\n",
        "    \"PRT\": \"Party\",\n",
        "    \"PRW\": \"Parents Are Watching\",\n",
        "    \"QPSA?\": \"Que Pasa?\",\n",
        "    \"ROFL\": \"Rolling On The Floor Laughing\",\n",
        "    \"ROFLOL\": \"Rolling On The Floor Laughing Out Loud\",\n",
        "    \"ROTFLMAO\": \"Rolling On The Floor Laughing My Ass Off\",\n",
        "    \"SK8\": \"Skate\",\n",
        "    \"STATS\": \"Your sex and age\",\n",
        "    \"ASL\": \"Age, Sex, Location\",\n",
        "    \"THX\": \"Thank You\",\n",
        "    \"TTFN\": \"Ta-Ta For Now!\",\n",
        "    \"TTYL\": \"Talk To You Later\",\n",
        "    \"U\": \"You\",\n",
        "    \"U2\": \"You Too\",\n",
        "    \"U4E\": \"Yours For Ever\",\n",
        "    \"WB\": \"Welcome Back\",\n",
        "    \"WTF\": \"What The Fuck\",\n",
        "    \"WTG\": \"Way To Go!\",\n",
        "    \"WUF\": \"Where Are You From?\",\n",
        "    \"W8\": \"Wait\",\n",
        "    \"7K\": \"Sick:-D Laugher\",\n",
        "    \"TFW\": \"That feeling when\",\n",
        "    \"MFW\": \"My face when\",\n",
        "    \"MRW\": \"My reaction when\",\n",
        "    \"IFYP\": \"I feel your pain\",\n",
        "    \"TNTL\": \"Trying not to laugh\",\n",
        "    \"JK\": \"Just kidding\",\n",
        "    \"IDC\": \"I don't care\",\n",
        "    \"ILY\": \"I love you\",\n",
        "    \"IMU\": \"I miss you\",\n",
        "    \"ADIH\": \"Another day in hell\",\n",
        "    \"ZZZ\": \"Sleeping, bored, tired\",\n",
        "    \"WYWH\": \"Wish you were here\",\n",
        "    \"BAE\": \"Before anyone else\",\n",
        "    \"FIMH\": \"Forever in my heart\",\n",
        "    \"BSAAW\": \"Big smile and a wink\",\n",
        "    \"BWL\": \"Bursting with laughter\",\n",
        "    \"BFF\": \"Best friends forever\",\n",
        "    \"CSL\": \"Can't stop laughing\"\n",
        "}"
      ]
    },
    {
      "cell_type": "code",
      "execution_count": null,
      "metadata": {
        "id": "WqPPGkjbdPTq"
      },
      "outputs": [],
      "source": [
        "stop_words = set(stopwords.words('english'))\n",
        "stemmer = PorterStemmer()\n",
        "\n",
        "def pre_proc(text):\n",
        "    words =  re.findall(r'[a-zA-Z]+', text)\n",
        "    words = [palavra for palavra in words if not palavra.lower() in stop_words]\n",
        "\n",
        "    for i, word in enumerate(words):\n",
        "        if word.upper() in chat_words:\n",
        "          words[i] = chat_words[word.upper()].lower()\n",
        "    return ' '.join(words)\n",
        "\n",
        "dataset['text'] = dataset['text'].apply(pre_proc)"
      ]
    },
    {
      "cell_type": "code",
      "execution_count": null,
      "metadata": {
        "colab": {
          "base_uri": "https://localhost:8080/"
        },
        "id": "G2S4iQpSp051",
        "outputId": "e742c4eb-6648-47c4-bde9-4bacb55575d5"
      },
      "outputs": [
        {
          "output_type": "stream",
          "name": "stdout",
          "text": [
            "                                                text  label\n",
            "0                 feel really helpless heavy hearted      4\n",
            "1  ive enjoyed able slouch relax unwind frankly n...      0\n",
            "2            gave internship dmrg feeling distraught      4\n",
            "3                                dont know feel lost      0\n",
            "4  kindergarten teacher thoroughly weary job take...      4\n"
          ]
        }
      ],
      "source": [
        "print(dataset.head())"
      ]
    },
    {
      "cell_type": "markdown",
      "metadata": {
        "id": "2GmOZ8PuJwGy"
      },
      "source": [
        "# Processando para valores:"
      ]
    },
    {
      "cell_type": "code",
      "execution_count": null,
      "metadata": {
        "colab": {
          "base_uri": "https://localhost:8080/"
        },
        "id": "7XfYaggBRN46",
        "outputId": "56fb2a4b-dc98-45e7-e21d-0718d67d5d8e"
      },
      "outputs": [
        {
          "output_type": "stream",
          "name": "stdout",
          "text": [
            "X_train shape: (332898,)\n",
            "X_test shape: (83225,)\n",
            "y_train shape: (332898,)\n",
            "y_test shape: (83225,)\n"
          ]
        }
      ],
      "source": [
        "# Dividindo entre dados de treino e teste:\n",
        "X_train, X_test, y_train, y_test = train_test_split(dataset['text'], dataset['label'], test_size=0.2, random_state=42)\n",
        "\n",
        "# Printando os formatos dos conjuntos:\n",
        "print(\"X_train shape:\", X_train.shape)\n",
        "print(\"X_test shape:\", X_test.shape)\n",
        "print(\"y_train shape:\", y_train.shape)\n",
        "print(\"y_test shape:\", y_test.shape)"
      ]
    },
    {
      "cell_type": "code",
      "execution_count": null,
      "metadata": {
        "colab": {
          "base_uri": "https://localhost:8080/"
        },
        "id": "7ums104VRvgs",
        "outputId": "e4527920-cbe9-4dc2-b5fc-7003df6acaf2"
      },
      "outputs": [
        {
          "output_type": "execute_result",
          "data": {
            "text/plain": [
              "153295    shed one tear couldnt help feel sentimental li...\n",
              "184453                   feel becoming bitter way dont like\n",
              "159598    feel top world last days feeling lethargic lik...\n",
              "69800        feel honored privilege admire lys amazing work\n",
              "102490    feel useless like running somehow defined running\n",
              "                                ...                        \n",
              "259471                    really feel like caring five kids\n",
              "366388         feel many many partners work really talented\n",
              "132015    manage make feel like idiot though remove moth...\n",
              "146969    know one reading feel need sentimental dear br...\n",
              "122033                      especially start feeling shitty\n",
              "Name: text, Length: 332898, dtype: object"
            ]
          },
          "metadata": {},
          "execution_count": 13
        }
      ],
      "source": [
        "X_train"
      ]
    },
    {
      "cell_type": "code",
      "execution_count": null,
      "metadata": {
        "colab": {
          "base_uri": "https://localhost:8080/"
        },
        "id": "QNR_OkOJRx9D",
        "outputId": "bb19eb83-3b22-40be-d24d-5ac156398e3a"
      },
      "outputs": [
        {
          "output_type": "execute_result",
          "data": {
            "text/plain": [
              "153295    0\n",
              "184453    3\n",
              "159598    0\n",
              "69800     1\n",
              "102490    0\n",
              "         ..\n",
              "259471    2\n",
              "366388    1\n",
              "132015    0\n",
              "146969    0\n",
              "122033    0\n",
              "Name: label, Length: 332898, dtype: int64"
            ]
          },
          "metadata": {},
          "execution_count": 14
        }
      ],
      "source": [
        "y_train"
      ]
    },
    {
      "cell_type": "code",
      "execution_count": null,
      "metadata": {
        "id": "oNUWZi4eRWm4"
      },
      "outputs": [],
      "source": [
        "# Criando um dicionário, definindo tamanho e conjuntos base:\n",
        "tokenizer = Tokenizer(num_words=50000)\n",
        "tokenizer.fit_on_texts(X_train)\n",
        "tokenizer.fit_on_texts(X_test)\n",
        "\n",
        "# Tokenizando os textos:\n",
        "X_train_sequences = tokenizer.texts_to_sequences(X_train)\n",
        "X_test_sequences = tokenizer.texts_to_sequences(X_test)"
      ]
    },
    {
      "cell_type": "code",
      "execution_count": null,
      "metadata": {
        "colab": {
          "base_uri": "https://localhost:8080/"
        },
        "id": "uJiiXLnER3ot",
        "outputId": "b0828a44-edcb-41e4-bd7f-cd1b7458977f"
      },
      "outputs": [
        {
          "output_type": "execute_result",
          "data": {
            "text/plain": [
              "[[2513,\n",
              "  13,\n",
              "  2430,\n",
              "  317,\n",
              "  47,\n",
              "  1,\n",
              "  613,\n",
              "  9,\n",
              "  444,\n",
              "  2104,\n",
              "  1172,\n",
              "  1093,\n",
              "  197,\n",
              "  173,\n",
              "  22,\n",
              "  1778,\n",
              "  1823],\n",
              " [1, 848, 392, 22, 26, 3],\n",
              " [1, 659, 83, 70, 66, 2, 494, 3, 917, 7771, 20350, 596, 6915],\n",
              " [1, 543, 3260, 2384, 40520, 130, 42],\n",
              " [1, 358, 3, 411, 470, 5624, 411]]"
            ]
          },
          "metadata": {},
          "execution_count": 16
        }
      ],
      "source": [
        "X_train_sequences[:5]"
      ]
    },
    {
      "cell_type": "code",
      "execution_count": null,
      "metadata": {
        "colab": {
          "base_uri": "https://localhost:8080/"
        },
        "id": "dmGJRVqkS_Lg",
        "outputId": "66922134-5b89-42d1-df76-9659a2d4bbc2"
      },
      "outputs": [
        {
          "output_type": "stream",
          "name": "stdout",
          "text": [
            "Maximum sequence length (maxlen): 79\n"
          ]
        }
      ],
      "source": [
        "# Achando a frase com maior número de tokens:\n",
        "maxlen = max(len(tokens) for tokens in X_train_sequences)\n",
        "print(\"Maximum sequence length (maxlen):\", maxlen)"
      ]
    },
    {
      "cell_type": "code",
      "execution_count": null,
      "metadata": {
        "colab": {
          "base_uri": "https://localhost:8080/"
        },
        "id": "1o6fHUm3TDRl",
        "outputId": "199b913a-5ca7-4f0e-f2c0-6faf39d96311"
      },
      "outputs": [
        {
          "output_type": "stream",
          "name": "stdout",
          "text": [
            "X_train_padded:\n",
            "[[2513   13 2430 ...    0    0    0]\n",
            " [   1  848  392 ...    0    0    0]\n",
            " [   1  659   83 ...    0    0    0]\n",
            " ...\n",
            " [1456   24    1 ...    0    0    0]\n",
            " [   6   13  262 ...    0    0    0]\n",
            " [ 171  102    2 ...    0    0    0]]\n",
            "\n",
            "X_test_padded:\n",
            "[[   6  214  146 ...    0    0    0]\n",
            " [   2  223   32 ...    0    0    0]\n",
            " [ 190   11    1 ...    0    0    0]\n",
            " ...\n",
            " [   1  563 1100 ...    0    0    0]\n",
            " [   4  303 8710 ...    0    0    0]\n",
            " [   1    3  105 ...    0    0    0]]\n"
          ]
        }
      ],
      "source": [
        "# Performando padding para deixar todas as \"frases\" com o mesmo tamanho:\n",
        "X_train_padded = pad_sequences(X_train_sequences, maxlen=maxlen, padding='post',)\n",
        "X_test_padded = pad_sequences(X_test_sequences, maxlen=maxlen, padding='post')\n",
        "\n",
        "# Printando os conjuntos processados com o padding:\n",
        "print(\"X_train_padded:\")\n",
        "print(X_train_padded)\n",
        "print(\"\\nX_test_padded:\")\n",
        "print(X_test_padded)"
      ]
    },
    {
      "cell_type": "code",
      "execution_count": null,
      "metadata": {
        "colab": {
          "base_uri": "https://localhost:8080/"
        },
        "id": "PaB2Zsh-TaHA",
        "outputId": "db480b40-9827-4229-844d-f14c41f33e32"
      },
      "outputs": [
        {
          "output_type": "execute_result",
          "data": {
            "text/plain": [
              "50000"
            ]
          },
          "metadata": {},
          "execution_count": 19
        }
      ],
      "source": [
        "# Tamanho do vocabulário: (para saber o número de nós na entrada do modelo de embeddings)\n",
        "input_Size = np.max(X_train_padded) + 1\n",
        "input_Size"
      ]
    },
    {
      "cell_type": "markdown",
      "metadata": {
        "id": "BI669k2MEcrs"
      },
      "source": [
        "# Definindo o nosso modelo:"
      ]
    },
    {
      "cell_type": "code",
      "execution_count": null,
      "metadata": {
        "colab": {
          "base_uri": "https://localhost:8080/"
        },
        "id": "gObNE9SVTrfn",
        "outputId": "e0290414-1b76-4519-c95d-cec1a12d21f1"
      },
      "outputs": [
        {
          "output_type": "stream",
          "name": "stdout",
          "text": [
            "Model: \"sequential_5\"\n",
            "_________________________________________________________________\n",
            " Layer (type)                Output Shape              Param #   \n",
            "=================================================================\n",
            " embedding_5 (Embedding)     (None, 79, 100)           5000000   \n",
            "                                                                 \n",
            " dropout_15 (Dropout)        (None, 79, 100)           0         \n",
            "                                                                 \n",
            " bidirectional_5 (Bidirecti  (None, 256)               234496    \n",
            " onal)                                                           \n",
            "                                                                 \n",
            " batch_normalization_5 (Bat  (None, 256)               1024      \n",
            " chNormalization)                                                \n",
            "                                                                 \n",
            " dropout_16 (Dropout)        (None, 256)               0         \n",
            "                                                                 \n",
            " dense_10 (Dense)            (None, 64)                16448     \n",
            "                                                                 \n",
            " dropout_17 (Dropout)        (None, 64)                0         \n",
            "                                                                 \n",
            " dense_11 (Dense)            (None, 6)                 390       \n",
            "                                                                 \n",
            "=================================================================\n",
            "Total params: 5252358 (20.04 MB)\n",
            "Trainable params: 5251846 (20.03 MB)\n",
            "Non-trainable params: 512 (2.00 KB)\n",
            "_________________________________________________________________\n"
          ]
        }
      ],
      "source": [
        "# Definindo o tipo de modelo:\n",
        "model = Sequential()\n",
        "\n",
        "# Adicionando um camada de embeddings\n",
        "model.add(Embedding(input_dim=input_Size, output_dim=100, input_length=maxlen))\n",
        "\n",
        "# Adicionando dropout ao modelo\n",
        "model.add(Dropout(0.5))\n",
        "\n",
        "# Adicionando uma camada bidirecional LSTM\n",
        "model.add(Bidirectional(LSTM(128)))\n",
        "\n",
        "# Aplicando uma normalização nos lotes de saida da camada anterior\n",
        "model.add(BatchNormalization())\n",
        "\n",
        "# Adicionando dropout ao modelo\n",
        "model.add(Dropout(0.5))\n",
        "\n",
        "# Adicionando uma camada densa com 64 nós e ativação relu\n",
        "model.add(Dense(64, activation='relu'))\n",
        "\n",
        "# Adicionando dropout ao modelo\n",
        "model.add(Dropout(0.5))\n",
        "\n",
        "# Adicionando uma camada de saída com a ativação softmax\n",
        "model.add(Dense(6, activation='softmax'))\n",
        "\n",
        "# Compilando o modelo\n",
        "model.compile(optimizer='adam', loss='sparse_categorical_crossentropy', metrics=['accuracy'])\n",
        "\n",
        "# Printando o resumo do modelo\n",
        "model.summary()"
      ]
    },
    {
      "cell_type": "markdown",
      "metadata": {
        "id": "Gcivy2xKbbut"
      },
      "source": [
        "# Treinando e avaliando o modelo:"
      ]
    },
    {
      "cell_type": "code",
      "execution_count": null,
      "metadata": {
        "colab": {
          "base_uri": "https://localhost:8080/"
        },
        "id": "K6wzER2yUNud",
        "outputId": "4421ff59-322f-46dc-869b-13b05b3426fd"
      },
      "outputs": [
        {
          "output_type": "stream",
          "name": "stdout",
          "text": [
            "Epoch 1/5\n",
            "1301/1301 [==============================] - 74s 53ms/step - loss: 0.4407 - accuracy: 0.8396 - val_loss: 0.3919 - val_accuracy: 0.8528\n",
            "Epoch 2/5\n",
            "1301/1301 [==============================] - 38s 29ms/step - loss: 0.1848 - accuracy: 0.9129 - val_loss: 0.2442 - val_accuracy: 0.9078\n",
            "Epoch 3/5\n",
            "1301/1301 [==============================] - 36s 28ms/step - loss: 0.1377 - accuracy: 0.9283 - val_loss: 0.1536 - val_accuracy: 0.9231\n",
            "Epoch 4/5\n",
            "1301/1301 [==============================] - 32s 25ms/step - loss: 0.1139 - accuracy: 0.9356 - val_loss: 0.1188 - val_accuracy: 0.9367\n",
            "Epoch 5/5\n",
            "1301/1301 [==============================] - 39s 30ms/step - loss: 0.1017 - accuracy: 0.9390 - val_loss: 0.0990 - val_accuracy: 0.9379\n"
          ]
        }
      ],
      "source": [
        "# Treinando o modelo:\n",
        "history = model.fit(X_train_padded, y_train, epochs=5, batch_size=256, validation_data=(X_test_padded, y_test),callbacks=[EarlyStopping(patience=3)])"
      ]
    },
    {
      "cell_type": "code",
      "execution_count": null,
      "metadata": {
        "colab": {
          "base_uri": "https://localhost:8080/"
        },
        "id": "WNZp7AuCGk47",
        "outputId": "823ef446-cd82-4946-e190-5053d5ced89b"
      },
      "outputs": [
        {
          "output_type": "stream",
          "name": "stdout",
          "text": [
            "2601/2601 [==============================] - 19s 7ms/step - loss: 0.0990 - accuracy: 0.9379\n"
          ]
        },
        {
          "output_type": "execute_result",
          "data": {
            "text/plain": [
              "[0.09899421781301498, 0.9379032850265503]"
            ]
          },
          "metadata": {},
          "execution_count": 38
        }
      ],
      "source": [
        "# Avaliando o modelo no conjunto de teste:\n",
        "model.evaluate(X_test_padded, y_test)"
      ]
    },
    {
      "cell_type": "code",
      "execution_count": null,
      "metadata": {
        "id": "aVcrXhGeOK8a",
        "colab": {
          "base_uri": "https://localhost:8080/",
          "height": 407
        },
        "outputId": "0808a642-2b9d-485e-8449-096fee917a58"
      },
      "outputs": [
        {
          "output_type": "display_data",
          "data": {
            "text/plain": [
              "<Figure size 1200x400 with 2 Axes>"
            ],
            "image/png": "[encoded data removed]"
          },
          "metadata": {}
        }
      ],
      "source": [
        "# Get the epoch with the highest validation accuracy\n",
        "best_epoch = history.history['val_accuracy'].index(max(history.history['val_accuracy'])) + 1\n",
        "\n",
        "# Criando subplots\n",
        "fig, axs = plt.subplots(1, 2, figsize=(12, 4))\n",
        "\n",
        "# Plotando a acurácia\n",
        "axs[0].plot(history.history['accuracy'], label='Training Accuracy', color='blue')\n",
        "axs[0].plot(history.history['val_accuracy'], label='Validation Accuracy', color='red')\n",
        "axs[0].scatter(best_epoch - 1, history.history['val_accuracy'][best_epoch - 1], color='green', label=f'Melhor epoca: {best_epoch}')\n",
        "axs[0].set_xlabel('epoca')\n",
        "axs[0].set_ylabel('acuracia')\n",
        "axs[0].set_title('Acuracia de treino e validacao:')\n",
        "axs[0].legend()\n",
        "\n",
        "\n",
        "# Plotando a loss\n",
        "axs[1].plot(history.history['loss'], label='Training Loss', color='blue')\n",
        "axs[1].plot(history.history['val_loss'], label='Validation Loss', color='red')\n",
        "axs[1].scatter(best_epoch - 1, history.history['val_loss'][best_epoch - 1], color='green',label=f'Melhor epoca: {best_epoch}')\n",
        "axs[1].set_xlabel('epoca')\n",
        "axs[1].set_ylabel('loss')\n",
        "axs[1].set_title('Loss de treino e validacao:')\n",
        "axs[1].legend()\n",
        "\n",
        "plt.tight_layout()\n",
        "plt.show()"
      ]
    },
    {
      "cell_type": "markdown",
      "metadata": {
        "id": "J4POm1m5Jvop"
      },
      "source": [
        "# Matriz de confusão:"
      ]
    },
    {
      "cell_type": "code",
      "execution_count": null,
      "metadata": {
        "colab": {
          "base_uri": "https://localhost:8080/",
          "height": 434
        },
        "id": "wYclmvzhJyjx",
        "outputId": "819df366-7f09-42e0-81e2-34966f5ae585"
      },
      "outputs": [
        {
          "output_type": "stream",
          "name": "stdout",
          "text": [
            "2601/2601 [==============================] - 26s 10ms/step\n"
          ]
        },
        {
          "output_type": "display_data",
          "data": {
            "text/plain": [
              "<Figure size 600x400 with 2 Axes>"
            ],
            "image/png": "[encoded data removed]"
          },
          "metadata": {}
        }
      ],
      "source": [
        "# Predictions On Test For Confustion Matrix\n",
        "from sklearn.metrics import confusion_matrix\n",
        "y_pred = model.predict(X_test_padded)\n",
        "y_pred = np.argmax(y_pred, axis=1)\n",
        "\n",
        "cm = confusion_matrix(y_test, y_pred)\n",
        "\n",
        "# Plot da matriz de confusão com rótulos de classe\n",
        "plt.figure(figsize=(6, 4))\n",
        "sns.heatmap(cm, annot=True, fmt='d', cmap='Reds')\n",
        "\n",
        "# Definindo os rótulos dos eixos x e y\n",
        "plt.xlabel('Previsoes')\n",
        "plt.ylabel('Rotulos')\n",
        "plt.xticks(ticks=np.arange(len(classes)), labels=[classes[i] for i in range(len(classes))])\n",
        "plt.yticks(ticks=np.arange(len(classes)), labels=[classes[i] for i in range(len(classes))])\n",
        "plt.title('Matriz de confusão')\n",
        "plt.show()"
      ]
    },
    {
      "cell_type": "markdown",
      "source": [
        "# Realizando predições em tempo real:"
      ],
      "metadata": {
        "id": "K2Fssyh9gCDR"
      }
    },
    {
      "cell_type": "code",
      "source": [
        "while True:\n",
        "  mensagem = str(input(\"O que você deseja compartilhar? \\n\"))\n",
        "\n",
        "  if(mensagem == \"sair\"):\n",
        "    print(\"Até mais!\")\n",
        "    break\n",
        "\n",
        "  else:\n",
        "    mensagem = pre_proc(mensagem)\n",
        "    mensagem = tokenizer.texts_to_sequences([mensagem])\n",
        "    mensagem = pad_sequences(mensagem, maxlen=maxlen, padding='post',)\n",
        "    predicao = model.predict(mensagem)\n",
        "    predicao = np.argmax(predicao, axis=1)\n",
        "    print(f\"A classe prevista para sua mensagem foi: {classes[predicao[0]]}\")\n"
      ],
      "metadata": {
        "colab": {
          "base_uri": "https://localhost:8080/"
        },
        "id": "E4K13x2sgIHU",
        "outputId": "1e5dacc4-0f88-4910-e690-959f4b48da8b"
      },
      "execution_count": null,
      "outputs": [
        {
          "output_type": "stream",
          "name": "stdout",
          "text": [
            "O que você deseja compartilhar? \n",
            "sair\n",
            "Até mais!\n"
          ]
        }
      ]
    },
    {
      "cell_type": "markdown",
      "metadata": {
        "id": "jLNczSCzGP9e"
      },
      "source": [
        "# Salvando e carregando o modelo:"
      ]
    },
    {
      "cell_type": "code",
      "execution_count": null,
      "metadata": {
        "id": "xQNV6PvnFZ6x"
      },
      "outputs": [],
      "source": [
        "# Salvando o modelo treinado:\n",
        "model.save('/content/drive/MyDrive/modelo_emotions.keras')"
      ]
    },
    {
      "cell_type": "code",
      "execution_count": null,
      "metadata": {
        "colab": {
          "base_uri": "https://localhost:8080/"
        },
        "id": "9xF2N6lLGPY5",
        "outputId": "f8ff95d1-344f-4fea-893e-229880c67239"
      },
      "outputs": [
        {
          "output_type": "stream",
          "name": "stdout",
          "text": [
            "Model: \"sequential_5\"\n",
            "_________________________________________________________________\n",
            " Layer (type)                Output Shape              Param #   \n",
            "=================================================================\n",
            " embedding_5 (Embedding)     (None, 79, 100)           5000000   \n",
            "                                                                 \n",
            " dropout_15 (Dropout)        (None, 79, 100)           0         \n",
            "                                                                 \n",
            " bidirectional_5 (Bidirecti  (None, 256)               234496    \n",
            " onal)                                                           \n",
            "                                                                 \n",
            " batch_normalization_5 (Bat  (None, 256)               1024      \n",
            " chNormalization)                                                \n",
            "                                                                 \n",
            " dropout_16 (Dropout)        (None, 256)               0         \n",
            "                                                                 \n",
            " dense_10 (Dense)            (None, 64)                16448     \n",
            "                                                                 \n",
            " dropout_17 (Dropout)        (None, 64)                0         \n",
            "                                                                 \n",
            " dense_11 (Dense)            (None, 6)                 390       \n",
            "                                                                 \n",
            "=================================================================\n",
            "Total params: 5252358 (20.04 MB)\n",
            "Trainable params: 5251846 (20.03 MB)\n",
            "Non-trainable params: 512 (2.00 KB)\n",
            "_________________________________________________________________\n"
          ]
        }
      ],
      "source": [
        "from tensorflow.keras.models import load_model\n",
        "\n",
        "# Carregando o modelo\n",
        "modelo_carregado = load_model('/content/drive/MyDrive/modelo_emotions.keras')\n",
        "\n",
        "# Printando o resumo do modelo\n",
        "modelo_carregado.summary()"
      ]
    }
  ],
  "metadata": {
    "colab": {
      "collapsed_sections": [
        "MVSZvgTkor0N",
        "HlNkRThz-QTN",
        "5wuP_14X-xgN",
        "uX0PKbxiAJ2N",
        "2GmOZ8PuJwGy",
        "J4POm1m5Jvop",
        "jLNczSCzGP9e"
      ],
      "provenance": [],
      "gpuType": "V28"
    },
    "kernelspec": {
      "display_name": "Python 3",
      "name": "python3"
    },
    "language_info": {
      "name": "python"
    },
    "accelerator": "TPU"
  },
  "nbformat": 4,
  "nbformat_minor": 0
}